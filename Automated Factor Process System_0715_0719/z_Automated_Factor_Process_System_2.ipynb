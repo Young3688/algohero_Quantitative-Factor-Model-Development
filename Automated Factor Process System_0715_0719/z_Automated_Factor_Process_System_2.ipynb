{
 "cells": [
  {
   "cell_type": "markdown",
   "metadata": {},
   "source": [
    "# Automated Factor Process System "
   ]
  },
  {
   "cell_type": "markdown",
   "metadata": {},
   "source": [
    "need to define:"
   ]
  },
  {
   "cell_type": "code",
   "execution_count": 1,
   "metadata": {},
   "outputs": [],
   "source": [
    "# define symbol to collect data\n",
    "symbol, interval, delay_minutes, start_year, start_month, start_day, end_year, end_month, end_day = 'BTCUSDT', '1h', 1, 2021, 1, 1, 2024, 6, 1\n",
    "### (end not included) #such as: 'BTCUSDT', '1h', 1, 2021, 1, 1, 2024, 6, 1\n",
    "\n",
    "# calculate return\n",
    "\n",
    "# feature processing method\n",
    "method = 'standardize' \n",
    "### method = normalize/standardize\n",
    "\n",
    "# train_test_split\n",
    "train_start, train_end, test_start, test_end = '2021-01-01', '2024-01-01', '2024-01-01', '2024-06-01' # can change\n",
    "\n",
    "# simply strategy threshold and cost\n",
    "threshold = 0.002\n",
    "cost = 0.002"
   ]
  },
  {
   "cell_type": "markdown",
   "metadata": {},
   "source": [
    "## 1. Data Collection"
   ]
  },
  {
   "cell_type": "code",
   "execution_count": 2,
   "metadata": {},
   "outputs": [],
   "source": [
    "import pandas as pd\n",
    "import numpy as np\n",
    "import matplotlib.pyplot as plt\n",
    "import plotly.graph_objects as go\n",
    "import a_binance_data_collection as binance_data_collection\n",
    "import b1_calculate_return as cr\n",
    "import b2_class_calculate_return as ccr\n",
    "import c1_calculate_specific_factor as csf # we will change feature engineering(factor)\n",
    "import d_feature_preprocssing as feapre\n",
    "import e_train_test_split as tts \n",
    "import model_construction_1_linear as model_construction_1_linear # we will change model\n",
    "import f1_basic_strategy_backtest as bsb # we will change stategy\n",
    "import f2_basic_strategy_backtesting_class as bsbc"
   ]
  },
  {
   "cell_type": "code",
   "execution_count": 3,
   "metadata": {},
   "outputs": [
    {
     "name": "stdout",
     "output_type": "stream",
     "text": [
      "Data has been saved to BTCUSDT_2021_1_1_to_2024_6_1_with_1h.csv\n"
     ]
    }
   ],
   "source": [
    "binance_data = binance_data_collection.binance_data_collection(symbol, interval, delay_minutes, start_year, start_month, start_day, end_year, end_month, end_day) # symbol, interval, delay_minutes, start_year, start_month, start_day, end_year, end_month, end_day(end not included)"
   ]
  },
  {
   "cell_type": "code",
   "execution_count": 4,
   "metadata": {},
   "outputs": [
    {
     "name": "stdout",
     "output_type": "stream",
     "text": [
      "                date_time           real_time      timestamp      open  \\\n",
      "0     2021-01-01 00:01:00 2021-01-01 00:00:00  1609459200000  28948.19   \n",
      "1     2021-01-01 01:01:00 2021-01-01 01:00:00  1609462800000  29015.00   \n",
      "2     2021-01-01 02:01:00 2021-01-01 02:00:00  1609466400000  29443.65   \n",
      "3     2021-01-01 03:01:00 2021-01-01 03:00:00  1609470000000  29236.58   \n",
      "4     2021-01-01 04:01:00 2021-01-01 04:00:00  1609473600000  29302.11   \n",
      "...                   ...                 ...            ...       ...   \n",
      "29923 2024-05-31 19:01:00 2024-05-31 19:00:00  1717182000000  67456.20   \n",
      "29924 2024-05-31 20:01:00 2024-05-31 20:00:00  1717185600000  67720.00   \n",
      "29925 2024-05-31 21:01:00 2024-05-31 21:00:00  1717189200000  67755.00   \n",
      "29926 2024-05-31 22:01:00 2024-05-31 22:00:00  1717192800000  67602.50   \n",
      "29927 2024-05-31 23:01:00 2024-05-31 23:00:00  1717196400000  67537.20   \n",
      "\n",
      "           high       low     close     volume  quote_asset_volume  \\\n",
      "0      29055.00  28706.00  29015.00   8037.588        2.321646e+08   \n",
      "1      29546.42  28975.46  29448.40  19543.401        5.736394e+08   \n",
      "2      29500.00  29159.16  29237.06  10049.720        2.946641e+08   \n",
      "3      29379.41  29174.95  29302.11   5579.452        1.633982e+08   \n",
      "4      29422.32  29086.00  29237.07   8351.683        2.443911e+08   \n",
      "...         ...       ...       ...        ...                 ...   \n",
      "29923  68059.40  67388.20  67719.90  12522.881        8.486403e+08   \n",
      "29924  67834.40  67633.10  67755.00   3592.345        2.433091e+08   \n",
      "29925  67763.00  67557.70  67602.30   2543.573        1.720847e+08   \n",
      "29926  67708.80  67529.80  67537.30   1783.136        1.206056e+08   \n",
      "29927  67643.00  67259.70  67577.90   7833.572        5.283599e+08   \n",
      "\n",
      "       number_of_trades  taker_buy_base_asset_volume  \\\n",
      "0               65942.0                     3983.842   \n",
      "1              127126.0                    10386.352   \n",
      "2               69148.0                     4513.355   \n",
      "3               47082.0                     2969.050   \n",
      "4               59332.0                     3661.258   \n",
      "...                 ...                          ...   \n",
      "29923          145735.0                     6950.388   \n",
      "29924           57772.0                     1701.252   \n",
      "29925           42362.0                     1088.662   \n",
      "29926           33471.0                      779.505   \n",
      "29927          102556.0                     3700.491   \n",
      "\n",
      "       taker_buy_quote_asset_volume  \n",
      "0                      1.151312e+08  \n",
      "1                      3.048663e+08  \n",
      "2                      1.323593e+08  \n",
      "3                      8.697145e+07  \n",
      "4                      1.071895e+08  \n",
      "...                             ...  \n",
      "29923                  4.710058e+08  \n",
      "29924                  1.152285e+08  \n",
      "29925                  7.364917e+07  \n",
      "29926                  5.272988e+07  \n",
      "29927                  2.496083e+08  \n",
      "\n",
      "[29928 rows x 12 columns]\n",
      "date_time                       0\n",
      "real_time                       0\n",
      "timestamp                       0\n",
      "open                            0\n",
      "high                            0\n",
      "low                             0\n",
      "close                           0\n",
      "volume                          0\n",
      "quote_asset_volume              0\n",
      "number_of_trades                0\n",
      "taker_buy_base_asset_volume     0\n",
      "taker_buy_quote_asset_volume    0\n",
      "dtype: int64\n"
     ]
    }
   ],
   "source": [
    "data  = pd.read_csv(binance_data)\n",
    "data['date_time'] = pd.to_datetime(data['date_time'])\n",
    "data['real_time'] = pd.to_datetime(data['real_time'])\n",
    "print(data)\n",
    "\n",
    "# simply process\n",
    "for column in data.columns:\n",
    "    median_value = data[column].median()\n",
    "    data[column] = data[column].fillna(median_value)\n",
    "print(data.isna().sum())"
   ]
  },
  {
   "cell_type": "code",
   "execution_count": 5,
   "metadata": {},
   "outputs": [],
   "source": [
    "# # plot data\n",
    "# def plot_data(data, x_column, y_column, title):\n",
    "#     fig = go.Figure()\n",
    "#     fig.add_trace(go.Scatter(x=data[x_column], y=data[y_column], mode='lines', name=y_column))\n",
    "#     fig.update_layout(title=title, xaxis_title=x_column, yaxis_title=y_column)\n",
    "#     fig.show()\n",
    "\n",
    "# for column in data.columns[3:14]:\n",
    "#     plot_data(data, 'date_time', column, f'{column}')"
   ]
  },
  {
   "cell_type": "markdown",
   "metadata": {},
   "source": [
    "## 2. Factor calcualtion "
   ]
  },
  {
   "cell_type": "code",
   "execution_count": 6,
   "metadata": {},
   "outputs": [
    {
     "data": {
      "text/html": [
       "<div>\n",
       "<style scoped>\n",
       "    .dataframe tbody tr th:only-of-type {\n",
       "        vertical-align: middle;\n",
       "    }\n",
       "\n",
       "    .dataframe tbody tr th {\n",
       "        vertical-align: top;\n",
       "    }\n",
       "\n",
       "    .dataframe thead th {\n",
       "        text-align: right;\n",
       "    }\n",
       "</style>\n",
       "<table border=\"1\" class=\"dataframe\">\n",
       "  <thead>\n",
       "    <tr style=\"text-align: right;\">\n",
       "      <th></th>\n",
       "      <th>real_time</th>\n",
       "      <th>timestamp</th>\n",
       "      <th>open</th>\n",
       "      <th>high</th>\n",
       "      <th>low</th>\n",
       "      <th>close</th>\n",
       "      <th>volume</th>\n",
       "      <th>quote_asset_volume</th>\n",
       "      <th>number_of_trades</th>\n",
       "      <th>taker_buy_base_asset_volume</th>\n",
       "      <th>taker_buy_quote_asset_volume</th>\n",
       "      <th>return_1h</th>\n",
       "    </tr>\n",
       "    <tr>\n",
       "      <th>date_time</th>\n",
       "      <th></th>\n",
       "      <th></th>\n",
       "      <th></th>\n",
       "      <th></th>\n",
       "      <th></th>\n",
       "      <th></th>\n",
       "      <th></th>\n",
       "      <th></th>\n",
       "      <th></th>\n",
       "      <th></th>\n",
       "      <th></th>\n",
       "      <th></th>\n",
       "    </tr>\n",
       "  </thead>\n",
       "  <tbody>\n",
       "    <tr>\n",
       "      <th>2021-01-01 00:01:00</th>\n",
       "      <td>2021-01-01 00:00:00</td>\n",
       "      <td>1609459200000</td>\n",
       "      <td>28948.19</td>\n",
       "      <td>29055.00</td>\n",
       "      <td>28706.00</td>\n",
       "      <td>29015.00</td>\n",
       "      <td>8037.588</td>\n",
       "      <td>2.321646e+08</td>\n",
       "      <td>65942.0</td>\n",
       "      <td>3983.842</td>\n",
       "      <td>1.151312e+08</td>\n",
       "      <td>NaN</td>\n",
       "    </tr>\n",
       "    <tr>\n",
       "      <th>2021-01-01 01:01:00</th>\n",
       "      <td>2021-01-01 01:00:00</td>\n",
       "      <td>1609462800000</td>\n",
       "      <td>29015.00</td>\n",
       "      <td>29546.42</td>\n",
       "      <td>28975.46</td>\n",
       "      <td>29448.40</td>\n",
       "      <td>19543.401</td>\n",
       "      <td>5.736394e+08</td>\n",
       "      <td>127126.0</td>\n",
       "      <td>10386.352</td>\n",
       "      <td>3.048663e+08</td>\n",
       "      <td>0.014937</td>\n",
       "    </tr>\n",
       "    <tr>\n",
       "      <th>2021-01-01 02:01:00</th>\n",
       "      <td>2021-01-01 02:00:00</td>\n",
       "      <td>1609466400000</td>\n",
       "      <td>29443.65</td>\n",
       "      <td>29500.00</td>\n",
       "      <td>29159.16</td>\n",
       "      <td>29237.06</td>\n",
       "      <td>10049.720</td>\n",
       "      <td>2.946641e+08</td>\n",
       "      <td>69148.0</td>\n",
       "      <td>4513.355</td>\n",
       "      <td>1.323593e+08</td>\n",
       "      <td>-0.007177</td>\n",
       "    </tr>\n",
       "    <tr>\n",
       "      <th>2021-01-01 03:01:00</th>\n",
       "      <td>2021-01-01 03:00:00</td>\n",
       "      <td>1609470000000</td>\n",
       "      <td>29236.58</td>\n",
       "      <td>29379.41</td>\n",
       "      <td>29174.95</td>\n",
       "      <td>29302.11</td>\n",
       "      <td>5579.452</td>\n",
       "      <td>1.633982e+08</td>\n",
       "      <td>47082.0</td>\n",
       "      <td>2969.050</td>\n",
       "      <td>8.697145e+07</td>\n",
       "      <td>0.002225</td>\n",
       "    </tr>\n",
       "    <tr>\n",
       "      <th>2021-01-01 04:01:00</th>\n",
       "      <td>2021-01-01 04:00:00</td>\n",
       "      <td>1609473600000</td>\n",
       "      <td>29302.11</td>\n",
       "      <td>29422.32</td>\n",
       "      <td>29086.00</td>\n",
       "      <td>29237.07</td>\n",
       "      <td>8351.683</td>\n",
       "      <td>2.443911e+08</td>\n",
       "      <td>59332.0</td>\n",
       "      <td>3661.258</td>\n",
       "      <td>1.071895e+08</td>\n",
       "      <td>-0.002220</td>\n",
       "    </tr>\n",
       "    <tr>\n",
       "      <th>...</th>\n",
       "      <td>...</td>\n",
       "      <td>...</td>\n",
       "      <td>...</td>\n",
       "      <td>...</td>\n",
       "      <td>...</td>\n",
       "      <td>...</td>\n",
       "      <td>...</td>\n",
       "      <td>...</td>\n",
       "      <td>...</td>\n",
       "      <td>...</td>\n",
       "      <td>...</td>\n",
       "      <td>...</td>\n",
       "    </tr>\n",
       "    <tr>\n",
       "      <th>2024-05-31 19:01:00</th>\n",
       "      <td>2024-05-31 19:00:00</td>\n",
       "      <td>1717182000000</td>\n",
       "      <td>67456.20</td>\n",
       "      <td>68059.40</td>\n",
       "      <td>67388.20</td>\n",
       "      <td>67719.90</td>\n",
       "      <td>12522.881</td>\n",
       "      <td>8.486403e+08</td>\n",
       "      <td>145735.0</td>\n",
       "      <td>6950.388</td>\n",
       "      <td>4.710058e+08</td>\n",
       "      <td>0.003911</td>\n",
       "    </tr>\n",
       "    <tr>\n",
       "      <th>2024-05-31 20:01:00</th>\n",
       "      <td>2024-05-31 20:00:00</td>\n",
       "      <td>1717185600000</td>\n",
       "      <td>67720.00</td>\n",
       "      <td>67834.40</td>\n",
       "      <td>67633.10</td>\n",
       "      <td>67755.00</td>\n",
       "      <td>3592.345</td>\n",
       "      <td>2.433091e+08</td>\n",
       "      <td>57772.0</td>\n",
       "      <td>1701.252</td>\n",
       "      <td>1.152285e+08</td>\n",
       "      <td>0.000518</td>\n",
       "    </tr>\n",
       "    <tr>\n",
       "      <th>2024-05-31 21:01:00</th>\n",
       "      <td>2024-05-31 21:00:00</td>\n",
       "      <td>1717189200000</td>\n",
       "      <td>67755.00</td>\n",
       "      <td>67763.00</td>\n",
       "      <td>67557.70</td>\n",
       "      <td>67602.30</td>\n",
       "      <td>2543.573</td>\n",
       "      <td>1.720847e+08</td>\n",
       "      <td>42362.0</td>\n",
       "      <td>1088.662</td>\n",
       "      <td>7.364917e+07</td>\n",
       "      <td>-0.002254</td>\n",
       "    </tr>\n",
       "    <tr>\n",
       "      <th>2024-05-31 22:01:00</th>\n",
       "      <td>2024-05-31 22:00:00</td>\n",
       "      <td>1717192800000</td>\n",
       "      <td>67602.50</td>\n",
       "      <td>67708.80</td>\n",
       "      <td>67529.80</td>\n",
       "      <td>67537.30</td>\n",
       "      <td>1783.136</td>\n",
       "      <td>1.206056e+08</td>\n",
       "      <td>33471.0</td>\n",
       "      <td>779.505</td>\n",
       "      <td>5.272988e+07</td>\n",
       "      <td>-0.000962</td>\n",
       "    </tr>\n",
       "    <tr>\n",
       "      <th>2024-05-31 23:01:00</th>\n",
       "      <td>2024-05-31 23:00:00</td>\n",
       "      <td>1717196400000</td>\n",
       "      <td>67537.20</td>\n",
       "      <td>67643.00</td>\n",
       "      <td>67259.70</td>\n",
       "      <td>67577.90</td>\n",
       "      <td>7833.572</td>\n",
       "      <td>5.283599e+08</td>\n",
       "      <td>102556.0</td>\n",
       "      <td>3700.491</td>\n",
       "      <td>2.496083e+08</td>\n",
       "      <td>0.000601</td>\n",
       "    </tr>\n",
       "  </tbody>\n",
       "</table>\n",
       "<p>29928 rows × 12 columns</p>\n",
       "</div>"
      ],
      "text/plain": [
       "                              real_time      timestamp      open      high  \\\n",
       "date_time                                                                    \n",
       "2021-01-01 00:01:00 2021-01-01 00:00:00  1609459200000  28948.19  29055.00   \n",
       "2021-01-01 01:01:00 2021-01-01 01:00:00  1609462800000  29015.00  29546.42   \n",
       "2021-01-01 02:01:00 2021-01-01 02:00:00  1609466400000  29443.65  29500.00   \n",
       "2021-01-01 03:01:00 2021-01-01 03:00:00  1609470000000  29236.58  29379.41   \n",
       "2021-01-01 04:01:00 2021-01-01 04:00:00  1609473600000  29302.11  29422.32   \n",
       "...                                 ...            ...       ...       ...   \n",
       "2024-05-31 19:01:00 2024-05-31 19:00:00  1717182000000  67456.20  68059.40   \n",
       "2024-05-31 20:01:00 2024-05-31 20:00:00  1717185600000  67720.00  67834.40   \n",
       "2024-05-31 21:01:00 2024-05-31 21:00:00  1717189200000  67755.00  67763.00   \n",
       "2024-05-31 22:01:00 2024-05-31 22:00:00  1717192800000  67602.50  67708.80   \n",
       "2024-05-31 23:01:00 2024-05-31 23:00:00  1717196400000  67537.20  67643.00   \n",
       "\n",
       "                          low     close     volume  quote_asset_volume  \\\n",
       "date_time                                                                \n",
       "2021-01-01 00:01:00  28706.00  29015.00   8037.588        2.321646e+08   \n",
       "2021-01-01 01:01:00  28975.46  29448.40  19543.401        5.736394e+08   \n",
       "2021-01-01 02:01:00  29159.16  29237.06  10049.720        2.946641e+08   \n",
       "2021-01-01 03:01:00  29174.95  29302.11   5579.452        1.633982e+08   \n",
       "2021-01-01 04:01:00  29086.00  29237.07   8351.683        2.443911e+08   \n",
       "...                       ...       ...        ...                 ...   \n",
       "2024-05-31 19:01:00  67388.20  67719.90  12522.881        8.486403e+08   \n",
       "2024-05-31 20:01:00  67633.10  67755.00   3592.345        2.433091e+08   \n",
       "2024-05-31 21:01:00  67557.70  67602.30   2543.573        1.720847e+08   \n",
       "2024-05-31 22:01:00  67529.80  67537.30   1783.136        1.206056e+08   \n",
       "2024-05-31 23:01:00  67259.70  67577.90   7833.572        5.283599e+08   \n",
       "\n",
       "                     number_of_trades  taker_buy_base_asset_volume  \\\n",
       "date_time                                                            \n",
       "2021-01-01 00:01:00           65942.0                     3983.842   \n",
       "2021-01-01 01:01:00          127126.0                    10386.352   \n",
       "2021-01-01 02:01:00           69148.0                     4513.355   \n",
       "2021-01-01 03:01:00           47082.0                     2969.050   \n",
       "2021-01-01 04:01:00           59332.0                     3661.258   \n",
       "...                               ...                          ...   \n",
       "2024-05-31 19:01:00          145735.0                     6950.388   \n",
       "2024-05-31 20:01:00           57772.0                     1701.252   \n",
       "2024-05-31 21:01:00           42362.0                     1088.662   \n",
       "2024-05-31 22:01:00           33471.0                      779.505   \n",
       "2024-05-31 23:01:00          102556.0                     3700.491   \n",
       "\n",
       "                     taker_buy_quote_asset_volume  return_1h  \n",
       "date_time                                                     \n",
       "2021-01-01 00:01:00                  1.151312e+08        NaN  \n",
       "2021-01-01 01:01:00                  3.048663e+08   0.014937  \n",
       "2021-01-01 02:01:00                  1.323593e+08  -0.007177  \n",
       "2021-01-01 03:01:00                  8.697145e+07   0.002225  \n",
       "2021-01-01 04:01:00                  1.071895e+08  -0.002220  \n",
       "...                                           ...        ...  \n",
       "2024-05-31 19:01:00                  4.710058e+08   0.003911  \n",
       "2024-05-31 20:01:00                  1.152285e+08   0.000518  \n",
       "2024-05-31 21:01:00                  7.364917e+07  -0.002254  \n",
       "2024-05-31 22:01:00                  5.272988e+07  -0.000962  \n",
       "2024-05-31 23:01:00                  2.496083e+08   0.000601  \n",
       "\n",
       "[29928 rows x 12 columns]"
      ]
     },
     "execution_count": 6,
     "metadata": {},
     "output_type": "execute_result"
    }
   ],
   "source": [
    "# # calcualte return\n",
    "period_labels = [interval]\n",
    "data = cr.compute_returns(data, period_labels=period_labels)\n",
    "\n",
    "# period_labels = [interval]\n",
    "# data = ccr.compute_returns(data, period_labels=period_labels, cost = cost)\n",
    "data"
   ]
  },
  {
   "cell_type": "code",
   "execution_count": null,
   "metadata": {},
   "outputs": [],
   "source": [
    "\n",
    "# calculate specific factor\n",
    "df = data.copy()\n",
    "period_labels = period_labels\n",
    "\n",
    "start_idx = df.columns.get_loc('volume') + 1\n",
    "return_col = df.filter(like='return').columns.tolist()\n",
    "end_idx = min(df.columns.get_loc(col) for col in return_col)\n",
    "specific_factor_col = df.columns[start_idx:end_idx]\n",
    "\n",
    "df_fac = csf.calculate_specific_factor(df, specific_factor_col, period_labels = period_labels)\n",
    "# print(df_fac)\n"
   ]
  },
  {
   "cell_type": "code",
   "execution_count": null,
   "metadata": {},
   "outputs": [],
   "source": [
    "# from tsfresh import extract_features\n",
    "# from tsfresh.utilities.dataframe_functions import impute\n",
    "# from tsfresh.utilities.distribution import MultiprocessingDistributor\n",
    "# from tsfresh import extract_features\n",
    "# from tsfresh.utilities.dataframe_functions import roll_time_series\n",
    "# train_start, train_end, test_start, test_end = train_start, train_end, test_start, test_end\n",
    "# train_df, test_df, Y, X, Y_train, X_train, Y_test, X_test = tts.train_test_split(df_fac, train_start, train_end, test_start, test_end)\n",
    "# timeseries = train_df[['close', 'volume', 'quote_asset_volume', 'number_of_trades', 'taker_buy_base_asset_volume', 'taker_buy_quote_asset_volume']].copy()\n",
    "# timeseries['code'] = 1\n",
    "# timeseries.reset_index(inplace=True)\n",
    "\n",
    "# data_roll = roll_time_series(timeseries, column_id='code', column_sort='date_time', max_timeshift=3, min_timeshift=1).drop(columns=['code'])\n",
    "\n",
    "\n",
    "# distributor = MultiprocessingDistributor(n_workers=1, disable_progressbar=False, progressbar_title=\"Feature Extraction\")\n",
    "    \n",
    "# extracted_features = extract_features(data_roll, column_id=\"id\", column_sort=\"date_time\", chunksize=60,distributor=distributor)\n",
    "# impute(extracted_features)\n",
    "\n",
    "# print(extracted_features)\n",
    "# extracted_features.to_csv('extracted_features.csv')"
   ]
  },
  {
   "cell_type": "code",
   "execution_count": null,
   "metadata": {},
   "outputs": [],
   "source": [
    "\n",
    "# calculate commom factor\n",
    "## use tsfresh\n",
    "\n",
    "## use featuretools\n",
    "### soon...."
   ]
  },
  {
   "cell_type": "markdown",
   "metadata": {},
   "source": [
    "## 3.Feature preprocessing "
   ]
  },
  {
   "cell_type": "code",
   "execution_count": null,
   "metadata": {},
   "outputs": [],
   "source": [
    "feature_df = df_fac.copy()\n",
    "\n",
    "# return_data & feature_data processing\n",
    "return_col = feature_df.filter(like='return').columns.tolist()\n",
    "feature_df = feapre.handle_return(feature_df, return_col)\n",
    "max_return_index = max(feature_df.columns.get_loc(col) for col in return_col)\n",
    "feature_col = feature_df.columns[max_return_index + 1:].tolist()\n",
    "feature_df = feapre.feature_preprocessing(feature_df, feature_col, method = method) # method = normalize/standardize\n",
    "\n",
    "print(feature_df)"
   ]
  },
  {
   "cell_type": "markdown",
   "metadata": {},
   "source": [
    "## 4.Model construction "
   ]
  },
  {
   "cell_type": "code",
   "execution_count": null,
   "metadata": {},
   "outputs": [],
   "source": [
    "model_df = feature_df.copy()\n",
    "train_start, train_end, test_start, test_end = train_start, train_end, test_start, test_end\n",
    "train_df, test_df, Y, X, Y_train, X_train, Y_test, X_test = tts.train_test_split(model_df, train_start, train_end, test_start, test_end)\n"
   ]
  },
  {
   "cell_type": "code",
   "execution_count": null,
   "metadata": {},
   "outputs": [],
   "source": []
  },
  {
   "cell_type": "code",
   "execution_count": null,
   "metadata": {},
   "outputs": [],
   "source": [
    "# import model_construction_1_linear as model_construction_1_linear\n",
    "# result_df, test_df = model_construction_1_linear.model_construction_linear(train_df, test_df, Y, X, Y_train, X_train, Y_test, X_test)"
   ]
  },
  {
   "cell_type": "code",
   "execution_count": null,
   "metadata": {},
   "outputs": [],
   "source": [
    "# import model_construction_2_lasso as model_construction_2_lasso\n",
    "# result_df, test_df = model_construction_2_lasso.model_construction_lasso(train_df, test_df, Y, X, Y_train, X_train, Y_test, X_test)\n"
   ]
  },
  {
   "cell_type": "code",
   "execution_count": null,
   "metadata": {},
   "outputs": [],
   "source": [
    "# import model_construction_3_ridge as model_construction_3_ridge\n",
    "# result_df, test_df = model_construction_3_ridge.model_construction_ridge(train_df, test_df, Y, X, Y_train, X_train, Y_test, X_test)"
   ]
  },
  {
   "cell_type": "code",
   "execution_count": null,
   "metadata": {},
   "outputs": [],
   "source": [
    "# import model_construction_4_logistic as model_construction_4_logistic\n",
    "# result_df, test_df = model_construction_4_logistic.model_construction_logistic(train_df, test_df, Y, X, Y_train, X_train, Y_test, X_test)"
   ]
  },
  {
   "cell_type": "code",
   "execution_count": null,
   "metadata": {},
   "outputs": [],
   "source": [
    "# import model_construction_5_lda as model_construction_5_lda\n",
    "# result_df, test_df = model_construction_5_lda.model_construction_lda(train_df, test_df, Y, X, Y_train, X_train, Y_test, X_test)"
   ]
  },
  {
   "cell_type": "code",
   "execution_count": null,
   "metadata": {},
   "outputs": [],
   "source": [
    "# import model_construction_6_qda as model_construction_6_qda\n",
    "# result_df, test_df = model_construction_6_qda.model_construction_qda(train_df, test_df, Y, X, Y_train, X_train, Y_test, X_test)"
   ]
  },
  {
   "cell_type": "code",
   "execution_count": null,
   "metadata": {},
   "outputs": [],
   "source": [
    "import model_construction_7_decision_trees_reg as model_construction_7_decision_trees_reg\n",
    "result_df, test_df = model_construction_7_decision_trees_reg.model_construction_decision_trees(train_df, test_df, Y, X, Y_train, X_train, Y_test, X_test)"
   ]
  },
  {
   "cell_type": "code",
   "execution_count": null,
   "metadata": {},
   "outputs": [],
   "source": [
    "# import model_construction_8_decision_trees_class as model_construction_8_decision_trees_class\n",
    "# result_df, test_df = model_construction_8_decision_trees_class(train_df, test_df, Y, X, Y_train, X_train, Y_test, X_test)"
   ]
  },
  {
   "cell_type": "code",
   "execution_count": null,
   "metadata": {},
   "outputs": [],
   "source": [
    "# import model_construction_9_random_forest_reg as model_construction_9_random_forest_reg\n",
    "# result_df, test_df = model_construction_9_random_forest_reg.model_construction_random_forest(train_df, test_df, Y, X, Y_train, X_train, Y_test, X_test)"
   ]
  },
  {
   "cell_type": "code",
   "execution_count": null,
   "metadata": {},
   "outputs": [],
   "source": [
    "# import model_construction_10_random_forest_class as model_construction_10_random_forest_class\n",
    "# result_df, test_df = model_construction_10_random_forest_class.model_construction_random_forest(train_df, test_df, Y, X, Y_train, X_train, Y_test, X_test)"
   ]
  },
  {
   "cell_type": "code",
   "execution_count": null,
   "metadata": {},
   "outputs": [],
   "source": [
    "# import model_construction_11_xgboost_reg as model_construction_11_xgboost_reg\n",
    "# result_df, test_df = model_construction_11_xgboost_reg.model_construction_xgboost(train_df, test_df, Y, X, Y_train, X_train, Y_test, X_test)"
   ]
  },
  {
   "cell_type": "code",
   "execution_count": null,
   "metadata": {},
   "outputs": [],
   "source": [
    "# import model_construction_12_xgboost_class as model_construction_12_xgboost_class\n",
    "# result_df, test_df = model_construction_12_xgboost_class.model_construction_xgboost(train_df, test_df, Y, X, Y_train, X_train, Y_test, X_test)"
   ]
  },
  {
   "cell_type": "code",
   "execution_count": null,
   "metadata": {},
   "outputs": [],
   "source": [
    "# import model_construction_13_adaboost_reg as model_construction_13_adaboost_reg\n",
    "# result_df, test_df = model_construction_13_adaboost_reg.model_construction_adaboost(train_df, test_df, Y, X, Y_train, X_train, Y_test, X_test)"
   ]
  },
  {
   "cell_type": "code",
   "execution_count": null,
   "metadata": {},
   "outputs": [],
   "source": [
    "# import model_construction_14_adaboost_class as model_construction_14_adaboost_class\n",
    "# result_df, test_df = model_construction_14_adaboost_class.model_construction_adaboost(train_df, test_df, Y, X, Y_train, X_train, Y_test, X_test)"
   ]
  },
  {
   "cell_type": "code",
   "execution_count": null,
   "metadata": {},
   "outputs": [],
   "source": [
    "# import model_construction_15_gbm_reg as model_construction_15_gbm_reg\n",
    "# result_df, test_df = model_construction_15_gbm_reg.model_construction_gbm(train_df, test_df, Y, X, Y_train, X_train, Y_test, X_test)"
   ]
  },
  {
   "cell_type": "code",
   "execution_count": null,
   "metadata": {},
   "outputs": [],
   "source": [
    "# import model_construction_16_gbm_class as model_construction_16_gbm_class\n",
    "# result_df, test_df = model_construction_16_gbm_class.model_construction_gbm(train_df, test_df, Y, X, Y_train, X_train, Y_test, X_test)"
   ]
  },
  {
   "cell_type": "code",
   "execution_count": null,
   "metadata": {},
   "outputs": [],
   "source": [
    "result_df"
   ]
  },
  {
   "cell_type": "code",
   "execution_count": null,
   "metadata": {},
   "outputs": [],
   "source": [
    "columns_to_keep = ['close']\n",
    "for y_unique in result_df['Y'].unique():\n",
    "    columns_to_keep.append(y_unique)\n",
    "for x in result_df['X'].unique():\n",
    "    for y in result_df[result_df['X'] == x]['Y'].unique():\n",
    "        pred_col_name = f\"{x}___{y}_pred_rtn\"\n",
    "        if pred_col_name not in columns_to_keep:\n",
    "            columns_to_keep.append(pred_col_name)\n",
    "        \n",
    "model_df = test_df[columns_to_keep]\n",
    "model_df"
   ]
  },
  {
   "cell_type": "markdown",
   "metadata": {},
   "source": [
    "## 5.Backtesting"
   ]
  },
  {
   "cell_type": "code",
   "execution_count": null,
   "metadata": {},
   "outputs": [],
   "source": [
    "back_df = model_df.copy()\n",
    "back_df = bsb.basic_strategy_backtesting(back_df, threshold, cost)\n",
    "# back_df = bsbc.basic_strategy_backtesting(back_df, cost)\n",
    "back_df"
   ]
  }
 ],
 "metadata": {
  "kernelspec": {
   "display_name": "gputorch",
   "language": "python",
   "name": "python3"
  },
  "language_info": {
   "codemirror_mode": {
    "name": "ipython",
    "version": 3
   },
   "file_extension": ".py",
   "mimetype": "text/x-python",
   "name": "python",
   "nbconvert_exporter": "python",
   "pygments_lexer": "ipython3",
   "version": "3.8.19"
  }
 },
 "nbformat": 4,
 "nbformat_minor": 2
}
